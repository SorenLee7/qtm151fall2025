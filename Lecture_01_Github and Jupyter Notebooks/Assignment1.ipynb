{
 "cells": [
  {
   "cell_type": "markdown",
   "id": "30f0b07e",
   "metadata": {},
   "source": [
    "<font size=10>\n",
    "This is my first jupyter notebook"
   ]
  },
  {
   "cell_type": "code",
   "execution_count": 1,
   "id": "94d6a00e",
   "metadata": {},
   "outputs": [
    {
     "name": "stdout",
     "output_type": "stream",
     "text": [
      "my name is Soren Lee\n"
     ]
    }
   ],
   "source": [
    "print(\"my name is Soren Lee\")"
   ]
  }
 ],
 "metadata": {
  "kernelspec": {
   "display_name": "base",
   "language": "python",
   "name": "python3"
  },
  "language_info": {
   "codemirror_mode": {
    "name": "ipython",
    "version": 3
   },
   "file_extension": ".py",
   "mimetype": "text/x-python",
   "name": "python",
   "nbconvert_exporter": "python",
   "pygments_lexer": "ipython3",
   "version": "3.13.5"
  }
 },
 "nbformat": 4,
 "nbformat_minor": 5
}
